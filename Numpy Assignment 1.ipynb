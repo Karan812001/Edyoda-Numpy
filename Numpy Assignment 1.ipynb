{
 "cells": [
  {
   "cell_type": "code",
   "execution_count": 6,
   "id": "154c36ce",
   "metadata": {},
   "outputs": [
    {
     "data": {
      "text/plain": [
       "array([0, 0, 0, 0, 1, 0, 0, 0, 0, 0])"
      ]
     },
     "execution_count": 6,
     "metadata": {},
     "output_type": "execute_result"
    }
   ],
   "source": [
    "#1. Create a null vector of size 10 but the fifth value which is 1.\n",
    "#sol\n",
    "import numpy as np \n",
    "(np.arange(10)==4).astype(int)"
   ]
  },
  {
   "cell_type": "code",
   "execution_count": 7,
   "id": "e33621f1",
   "metadata": {},
   "outputs": [
    {
     "data": {
      "text/plain": [
       "array([10, 11, 12, 13, 14, 15, 16, 17, 18, 19, 20, 21, 22, 23, 24, 25, 26,\n",
       "       27, 28, 29, 30, 31, 32, 33, 34, 35, 36, 37, 38, 39, 40, 41, 42, 43,\n",
       "       44, 45, 46, 47, 48, 49])"
      ]
     },
     "execution_count": 7,
     "metadata": {},
     "output_type": "execute_result"
    }
   ],
   "source": [
    "#2. Create a vector with values ranging from 10 to 49.\n",
    "#sol\n",
    "np.arange(10,50)"
   ]
  },
  {
   "cell_type": "code",
   "execution_count": 8,
   "id": "504e5aac",
   "metadata": {},
   "outputs": [
    {
     "name": "stdout",
     "output_type": "stream",
     "text": [
      "[[0 1 2]\n",
      " [3 4 5]\n",
      " [6 7 8]]\n"
     ]
    }
   ],
   "source": [
    "#3. Create a 3x3 matrix with values ranging from 0 to 8.\n",
    "#sol\n",
    "x=np.arange(0,9).reshape(3,3)\n",
    "print(x)"
   ]
  },
  {
   "cell_type": "code",
   "execution_count": 9,
   "id": "326b8de5",
   "metadata": {},
   "outputs": [
    {
     "name": "stdout",
     "output_type": "stream",
     "text": [
      "indices of non-zero elements are: (array([0, 1, 4], dtype=int64),)\n"
     ]
    }
   ],
   "source": [
    "#4. Find indices of non-zero elements from [1,2,0,0,4,0].\n",
    "#sol\n",
    "x=np.array([1,2,0,0,4,0])\n",
    "print(\"indices of non-zero elements are:\",np.nonzero(x))"
   ]
  },
  {
   "cell_type": "code",
   "execution_count": 10,
   "id": "d4e3a0df",
   "metadata": {},
   "outputs": [
    {
     "name": "stdout",
     "output_type": "stream",
     "text": [
      "Minimum vales: 0.010584185813584779\n",
      "Maximum values: 0.9996712836470161\n",
      "[[0.92919994 0.41735579 0.32257429 0.57526205 0.0149394  0.89381767\n",
      "  0.23488565 0.84453253 0.31809837 0.04012427]\n",
      " [0.84261643 0.02855135 0.58380884 0.13461434 0.81051222 0.96463816\n",
      "  0.89114    0.26269632 0.50858951 0.4487015 ]\n",
      " [0.81671709 0.21564071 0.04816891 0.76372181 0.01058419 0.50685009\n",
      "  0.72365062 0.06868867 0.84953833 0.60020097]\n",
      " [0.83450878 0.65156825 0.88763584 0.55319116 0.13642037 0.30055929\n",
      "  0.04211598 0.17836845 0.93190915 0.85794422]\n",
      " [0.38836734 0.30210863 0.06279828 0.99100053 0.97203013 0.39053727\n",
      "  0.16207211 0.95737843 0.91033238 0.8757231 ]\n",
      " [0.55588726 0.54633574 0.3806821  0.60671713 0.69359138 0.35183242\n",
      "  0.26677871 0.17469285 0.31989039 0.55969924]\n",
      " [0.16224457 0.85038718 0.62740931 0.78493493 0.71462958 0.40883527\n",
      "  0.9239681  0.19450794 0.32494732 0.52010508]\n",
      " [0.98434237 0.45627297 0.72903432 0.18638342 0.88810646 0.46887127\n",
      "  0.44109218 0.99967128 0.81439399 0.50845074]\n",
      " [0.80779679 0.15657823 0.67059501 0.49425333 0.16074017 0.11843566\n",
      "  0.42953318 0.32532432 0.50355112 0.27573999]\n",
      " [0.98541973 0.3082242  0.27693787 0.99912755 0.6343757  0.88368111\n",
      "  0.83491871 0.63748316 0.74030284 0.85856944]]\n"
     ]
    }
   ],
   "source": [
    "#5. Create a 10x10 array with random values and find the minimum and maximum values.\n",
    "#sol\n",
    "import random\n",
    "random.seed(10)\n",
    "x=np.random.random(size=(10,10))\n",
    "print(\"Minimum vales:\",x.min())\n",
    "print(\"Maximum values:\",x.max())\n",
    "print(x)"
   ]
  },
  {
   "cell_type": "code",
   "execution_count": 11,
   "id": "d5ea444b",
   "metadata": {},
   "outputs": [
    {
     "name": "stdout",
     "output_type": "stream",
     "text": [
      "mean: 0.5854136699119754\n"
     ]
    }
   ],
   "source": [
    "#6. Create a random vector of size 30 and find the mean value\n",
    "#sol\n",
    "arr=np.random.random((5,6))\n",
    "Mean_value_of_the_matrix=np.mean(arr)\n",
    "print(\"mean:\",Mean_value_of_the_matrix)"
   ]
  },
  {
   "cell_type": "code",
   "execution_count": null,
   "id": "bc39e863",
   "metadata": {},
   "outputs": [],
   "source": []
  }
 ],
 "metadata": {
  "kernelspec": {
   "display_name": "Python 3 (ipykernel)",
   "language": "python",
   "name": "python3"
  },
  "language_info": {
   "codemirror_mode": {
    "name": "ipython",
    "version": 3
   },
   "file_extension": ".py",
   "mimetype": "text/x-python",
   "name": "python",
   "nbconvert_exporter": "python",
   "pygments_lexer": "ipython3",
   "version": "3.10.0"
  }
 },
 "nbformat": 4,
 "nbformat_minor": 5
}
